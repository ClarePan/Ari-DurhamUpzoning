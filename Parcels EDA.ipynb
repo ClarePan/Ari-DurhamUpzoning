{
 "cells": [
  {
   "cell_type": "code",
   "execution_count": null,
   "metadata": {},
   "outputs": [],
   "source": [
    "import numpy as np\n",
    "import pandas as pd\n",
    "import matplotlib.pyplot as mplt\n",
    "import seaborn as sbn\n",
    "from scipy import stats\n",
    "\n",
    "pd.set_option('float_format', '{:f}'.format)"
   ]
  },
  {
   "cell_type": "code",
   "execution_count": null,
   "metadata": {},
   "outputs": [],
   "source": [
    "#df = pd.read_csv(\"Parcels.csv\", converters={'LANDUSE_DESC': str.strip})\n",
    "\n",
    "import requests\n",
    "from io import StringIO\n",
    "\n",
    "orig_url='https://drive.google.com/file/d/17PjftoPhdYPevFe6lj_60WSGkYwHhh0_/view?usp=sharing'\n",
    "file_id = orig_url.split('/')[-2]\n",
    "dwn_url ='https://drive.google.com/uc?export=download&id=' + file_id\n",
    "url = requests.get(dwn_url).text\n",
    "csv_raw = StringIO(url)\n",
    "df = pd.read_csv(csv_raw, converters={'LANDUSE_DESC': str.strip})\n",
    "\n",
    "df.columns = [x.encode('utf-8').decode('ascii', 'ignore') for x in df.columns]\n",
    "\n",
    "pd.set_option('display.max_columns', None)\n",
    "\n",
    "df.info()"
   ]
  },
  {
   "cell_type": "code",
   "execution_count": null,
   "metadata": {},
   "outputs": [],
   "source": [
    "df.head()"
   ]
  },
  {
   "cell_type": "markdown",
   "metadata": {},
   "source": [
    "#### Basic info:\n",
    "* 45 columns, 120,783 rows\n",
    "* Useful fields:\n",
    "    * OBJECTID\n",
    "    * PARCEL_ID\n",
    "    * SUM_ACRE\n",
    "    * LAND_USE AND LANDUSE_DESC\n",
    "    * LAND_VALUE, BLDG_VALUE and TOTAL_VALU\n",
    "    * DATE_SOLD AND SALE_PRICE (n/a for most records)\n",
    "    * SITE_ADDRE (street address only)\n",
    "* Potentially useful fields (would need to know what these are and get definitions of the code values):\n",
    "    * DIST_CODE\n",
    "    * NBR_CODE\n",
    "    * CLASS_CODE\n",
    "* Wrong datatypes:\n",
    "    * OBJECTID (s/b object)\n",
    "    * PARCEL_ID (s/b object)\n",
    "    * DATE_SOLD (s/b date)\n",
    "    * DIST_CODE (s/b object)"
   ]
  },
  {
   "cell_type": "markdown",
   "metadata": {},
   "source": [
    "### DATA PREP"
   ]
  },
  {
   "cell_type": "code",
   "execution_count": null,
   "metadata": {},
   "outputs": [],
   "source": [
    "#Convert datatypes.\n",
    "\n",
    "obj_col = ['OBJECTID', 'PARCEL_ID', 'DIST_CODE']\n",
    "for i in obj_col:\n",
    "    df[i] = df[i].astype('object')\n",
    "\n",
    "df['DATE_SOLD'] = df['DATE_SOLD'].replace({0:np.nan})\n",
    "\n",
    "df['DATE_SOLD'] = pd.to_datetime(df['DATE_SOLD'].astype(str), format='%Y%m%d')"
   ]
  },
  {
   "cell_type": "code",
   "execution_count": null,
   "metadata": {},
   "outputs": [],
   "source": [
    "#Keep only useful fields.\n",
    "\n",
    "df1 = df[['OBJECTID','PARCEL_ID','SUM_ACRE', 'LAND_USE', 'LANDUSE_DESC', 'LAND_VALUE', 'BLDG_VALUE', 'TOTAL_VALU',\n",
    "          'DATE_SOLD', 'SALE_PRICE', 'SITE_ADDRE', 'DIST_CODE', 'NBR_CODE', 'CLASS_CODE']]\n",
    "\n",
    "df1.info()"
   ]
  },
  {
   "cell_type": "code",
   "execution_count": null,
   "metadata": {},
   "outputs": [],
   "source": [
    "#Which parcels have residential land uses?\n",
    "\n",
    "df1_ordered_by_landuse_desc = df1.filter(['LANDUSE_DESC'], axis=1)\n",
    "df1_ordered_by_landuse_desc_sorted = df1_ordered_by_landuse_desc.sort_values(['LANDUSE_DESC'], ascending=[1])\n",
    "df1_ordered_by_landuse_desc_sorted['LANDUSE_DESC'].unique()"
   ]
  },
  {
   "cell_type": "markdown",
   "metadata": {},
   "source": [
    "#### Keep only records with these land uses:\n",
    "\n",
    "* Some 'AG/ ': '1-FAMILY', '1-MH OR MH SITE', '2-FAMILY', 'MULTIPLE DWG'S'\n",
    "* Some 'COM/ ': 'APARTMENT-DWG CONV', 'APARTMENT-GARDEN', 'APARTMENT-GARDEN S42', 'APARTMENT-HIGH RISE', 'APT-HIGH RISE S42', 'DWNTWN ROW-ATTACHED', DWNTWN ROW-DETACHED', 'LIVING ACCOMM', 'LIVING ACCOMN S42'\n",
    "* All 'RES/ ...' (some (e.g., RES/ GROUP LIVING) may not be appropriate, but that's a decision for someone else.\n",
    "* All 'VAC 'RES/ ...' (some may not be appropriate, but that's a decision for someone else)"
   ]
  },
  {
   "cell_type": "code",
   "execution_count": null,
   "metadata": {},
   "outputs": [],
   "source": [
    "#Create new dataframe with just residential parcels.\n",
    "\n",
    "res_uses = ['AG/ 1-FAMILY', 'AG/ 1-MH OR MH SITE', 'AG/ 2-FAMILY', \"AG/ MULTIPLE DWG'S\", 'COM/ APARTMENT-DWG CONV',\n",
    "           'COM/ APARTMENT-GARDEN', 'COM/ APARTMENT-GARDEN S42', 'COM/ APARTMENT-HIGH RISE', 'COM/ APT-HIGH RISE S42',\n",
    "           'COM/ DWNTWN ROW-ATTACHED', 'COM/ DWNTWN ROW-DETACHED', 'COM/ LIVING ACCOMM', 'COM/ LIVING ACCOMN S42',\n",
    "           'RES/ 1-FAMILY', 'RES/ 1-FAMILY S42', 'RES/ 1-MH OR MH SITE', 'RES/ 2-FAMILY', 'RES/ 2-FAMILY MULTI UNITS',\n",
    "           'RES/ 2-FAMILY S42', 'RES/ 2-MH OR MH SITES', 'RES/ 3-FAMILY', 'RES/ 3-FAMILY S42', 'RES/ 4-FAMILY',\n",
    "           'RES/ CONDOMINIUM', 'RES/ DCLT LSHLD IMPROV', 'RES/ DWG + 1-MBL HM', 'RES/ DWG + 2-MBL HMS', 'RES/ ESTATE',\n",
    "           'RES/ GROUP LIVING', 'RES/ HISTORICAL', 'RES/ HOMEOWNERS ASSOC IMP', 'RES/ LSHLD IMPROV', 'RES/ MOBILE HOME',\n",
    "           \"RES/ MULTIPLE DWG'S\", 'RES/ PATIO HOME W/ LAND', 'RES/ RESIDENTIAL (UNDIFF)', 'RES/ RURAL RESIDENTIAL',\n",
    "           'RES/ TOWNHOUSE W/ LAND', 'RES/ TOWNHOUSE W/ LND S42', 'VAC RES/ < 10 ACRES', 'VAC RES/ DEVELOPER',\n",
    "           'VAC RES/ HOMEOWNERS ASSOC', 'VAC RES/ LOT-SML TR/REAR', 'VAC RES/ LOT-SML TR/SIDE', 'VAC RES/ LOT-SML TRACT',\n",
    "           'VAC RES/ RURAL < 10 ACRES', 'VAC RES/ UNDERWATER LANDS', 'VAC RES/ W/ SML IMPROV']\n",
    "\n",
    "df_res = df1[df1['LANDUSE_DESC'].isin(res_uses)]\n",
    "\n",
    "df_res.info()"
   ]
  },
  {
   "cell_type": "markdown",
   "metadata": {},
   "source": [
    "#### Basic info:\n",
    "* 14 columns (dropped 31)\n",
    "* 108,203 rows (dropped only 12,580 - this is surprising)\n",
    "\n",
    "#### Summary statistics:"
   ]
  },
  {
   "cell_type": "code",
   "execution_count": null,
   "metadata": {},
   "outputs": [],
   "source": [
    "df_res.describe()"
   ]
  },
  {
   "cell_type": "markdown",
   "metadata": {},
   "source": [
    "#### Missing (null) values"
   ]
  },
  {
   "cell_type": "code",
   "execution_count": null,
   "metadata": {},
   "outputs": [],
   "source": [
    "# Summary of null data, by count and percentage:\n",
    "\n",
    "nulltotal = df_res.isnull().sum().sort_values(ascending=False)\n",
    "nullpercent = (df_res.isnull().sum()*100/df_res.isnull().count()).sort_values(ascending=False)\n",
    "missing_data = pd.concat([nulltotal, nullpercent], axis=1, keys=['Total', 'Percent'])\n",
    "\n",
    "missing_data.head()"
   ]
  },
  {
   "cell_type": "code",
   "execution_count": null,
   "metadata": {},
   "outputs": [],
   "source": [
    "#df_res.head()\n",
    "\n",
    "df_res_ordered_by_date_sold = df_res.filter(['DATE_SOLD'], axis=1)\n",
    "df_res_ordered_by_date_sold_sorted = df_res_ordered_by_date_sold.sort_values(['DATE_SOLD'], ascending=[1])\n",
    "df_res_ordered_by_date_sold_sorted['DATE_SOLD'].unique()"
   ]
  },
  {
   "cell_type": "markdown",
   "metadata": {},
   "source": [
    "* SUM_ACRE has <10 null's - should delete these records.\n",
    "\n",
    "* DATE_SOLD has many null's (and earliest values are 1997, which is probably ok for our needs) - don't delete these records."
   ]
  },
  {
   "cell_type": "code",
   "execution_count": null,
   "metadata": {},
   "outputs": [],
   "source": [
    "df_res.dropna(subset=['SUM_ACRE'], inplace=True)"
   ]
  },
  {
   "cell_type": "markdown",
   "metadata": {},
   "source": [
    "#### Any duplicate rows?"
   ]
  },
  {
   "cell_type": "code",
   "execution_count": null,
   "metadata": {},
   "outputs": [],
   "source": [
    "df_res.duplicated().sum()"
   ]
  },
  {
   "cell_type": "markdown",
   "metadata": {},
   "source": [
    "#### Are there outliers?"
   ]
  },
  {
   "cell_type": "code",
   "execution_count": null,
   "metadata": {},
   "outputs": [],
   "source": [
    "#df_res.boxplot(column=['SUM_ACRE'])\n",
    "#mplt.show\n",
    "\n",
    "df_test = pd.DataFrame(np.random.rand(10, 5), columns=[\"SUM_ACRE\", \"LAND_VALUE\", \"BLDG_VALUE\", \"TOTAL_VALU\", \"SALE_PRICE\"])\n",
    "df_test.plot.box()"
   ]
  },
  {
   "cell_type": "markdown",
   "metadata": {},
   "source": [
    "There are outliers, but for these fields, extreme values are reasonable."
   ]
  },
  {
   "cell_type": "markdown",
   "metadata": {},
   "source": [
    "### EXPLORATION"
   ]
  },
  {
   "cell_type": "markdown",
   "metadata": {},
   "source": [
    "#### Distributions of quantitative variables"
   ]
  },
  {
   "cell_type": "code",
   "execution_count": null,
   "metadata": {},
   "outputs": [],
   "source": [
    "fig = mplt.figure(figsize = (30,20))\n",
    "ax = fig.gca()\n",
    "df_res.hist(ax=ax)\n",
    "mplt.show()"
   ]
  },
  {
   "cell_type": "markdown",
   "metadata": {},
   "source": [
    "##### Observations:\n",
    "All quantitative variables are heavily skewed."
   ]
  },
  {
   "cell_type": "markdown",
   "metadata": {},
   "source": [
    "#### Categorical values by count"
   ]
  },
  {
   "cell_type": "code",
   "execution_count": null,
   "metadata": {},
   "outputs": [],
   "source": [
    "# LANDUSE_DESC is a key categorical variable. DIST_CODE, NBR_CODE and CLASS_CODE may be useful; don't know yet.\n",
    "\n",
    "from matplotlib.pyplot import figure\n",
    "figure(num=None, figsize=(8, 12), dpi=80, facecolor='w', edgecolor='k')\n",
    "\n",
    "df_res['LANDUSE_DESC'].value_counts().plot(kind='barh')"
   ]
  },
  {
   "cell_type": "markdown",
   "metadata": {},
   "source": [
    "##### Observations:\n",
    "* LANDUSE_DESC:\n",
    "    * RES/ 1-FAMILY is by far most prevalent residential category.\n",
    "    * Next: RES/ TOWNHOUSE W/ LAND, VAC RES/ LOT-SML TRACT"
   ]
  },
  {
   "cell_type": "markdown",
   "metadata": {},
   "source": [
    "#### Categorical values by quantitative variables"
   ]
  },
  {
   "cell_type": "code",
   "execution_count": null,
   "metadata": {},
   "outputs": [],
   "source": [
    "# LANDUSE_DESC is a key categorical variable. DIST_CODE, NBR_CODE and CLASS_CODE may be useful; don't know yet.\n",
    "# TOTAL_VALU is a key quantitative variable. May also want look at SUM_ACRE.\n",
    "# Will look at mean values for each category.\n",
    "\n",
    "#figure(num=None, figsize=(8, 12), dpi=80, facecolor='w', edgecolor='k')\n",
    "#x = df_res.groupby('LANDUSE_DESC').mean().reset_index()\n",
    "#mplt.bar(range(len(x)), x['TOTAL_VALU'], color=\"blue\")\n",
    "#mplt.xticks(range(len(x)), x['LANDUSE_DESC'])\n",
    "#mplt.ylabel('Mean')\n",
    "\n",
    "#Can't get bar chart to be readable. Will just print results.\n",
    "\n",
    "df_res[[\"LANDUSE_DESC\", \"TOTAL_VALU\"]].groupby(\"LANDUSE_DESC\").mean().style.format('{0:,.0f}')"
   ]
  },
  {
   "cell_type": "markdown",
   "metadata": {},
   "source": [
    "##### Observations:\n",
    "* Pattern is what would be expected:\n",
    "    * Highest values are apartments, downtown, estate.\n",
    "    * COM / LIVING ACCOMN S42 also high value - what is this?\n",
    "    * Lowest values are vacant, mobile home, etc."
   ]
  },
  {
   "cell_type": "markdown",
   "metadata": {},
   "source": [
    "#### Relationships among quantitative variables"
   ]
  },
  {
   "cell_type": "code",
   "execution_count": null,
   "metadata": {},
   "outputs": [],
   "source": [
    "# Correlogram\n",
    "\n",
    "mplt.style.use('seaborn-colorblind')\n",
    "sbn.pairplot(df_res[['SUM_ACRE','LAND_VALUE','BLDG_VALUE','TOTAL_VALU','SALE_PRICE']], kind=\"scatter\", diag_kind = 'kde', \\\n",
    "             plot_kws = {'alpha': 0.33, 's': 80, 'edgecolor': 'k'}, height = 4)\n",
    "mplt.show()"
   ]
  },
  {
   "cell_type": "markdown",
   "metadata": {},
   "source": [
    "##### Observations:\n",
    "\n",
    "* Not surprisingly, SALE_PRICE and the 3 value fields are all highly correlated.\n",
    "* Surprisingly, SUM_ACRE seems to be weakly correlated, at best, with other quantitative fields."
   ]
  },
  {
   "cell_type": "code",
   "execution_count": null,
   "metadata": {},
   "outputs": [],
   "source": []
  }
 ],
 "metadata": {
  "kernelspec": {
   "display_name": "Python 3",
   "language": "python",
   "name": "python3"
  },
  "language_info": {
   "codemirror_mode": {
    "name": "ipython",
    "version": 3
   },
   "file_extension": ".py",
   "mimetype": "text/x-python",
   "name": "python",
   "nbconvert_exporter": "python",
   "pygments_lexer": "ipython3",
   "version": "3.7.4"
  }
 },
 "nbformat": 4,
 "nbformat_minor": 4
}
